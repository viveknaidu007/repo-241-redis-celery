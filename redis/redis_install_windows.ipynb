{
 "cells": [
  {
   "cell_type": "code",
   "execution_count": null,
   "metadata": {
    "vscode": {
     "languageId": "plaintext"
    }
   },
   "outputs": [],
   "source": [
    "https://github.com/microsoftarchiv\n",
    "e/redis/releases\n"
   ]
  },
  {
   "cell_type": "code",
   "execution_count": null,
   "metadata": {
    "vscode": {
     "languageId": "plaintext"
    }
   },
   "outputs": [],
   "source": [
    "https://github.com/microsoftarchive/redis/releases/tag/win-3.0.504"
   ]
  },
  {
   "cell_type": "code",
   "execution_count": null,
   "metadata": {
    "vscode": {
     "languageId": "plaintext"
    }
   },
   "outputs": [],
   "source": [
    "redis-cli"
   ]
  },
  {
   "cell_type": "code",
   "execution_count": null,
   "metadata": {
    "vscode": {
     "languageId": "plaintext"
    }
   },
   "outputs": [],
   "source": [
    "ping"
   ]
  },
  {
   "cell_type": "markdown",
   "metadata": {
    "vscode": {
     "languageId": "plaintext"
    }
   },
   "source": [
    "Command for Redis\t\n",
    "redis-server\n",
    "\n",
    "To check whether redis installed or not properly.\n",
    "redis-cli \n",
    "\n",
    "CLI tool for interacting with the Redis Server.\n",
    "redis-cli monitor\n",
    "\n",
    "For monitoring all activities.\n"
   ]
  },
  {
   "cell_type": "code",
   "execution_count": null,
   "metadata": {
    "vscode": {
     "languageId": "plaintext"
    }
   },
   "outputs": [],
   "source": [
    "#"
   ]
  },
  {
   "cell_type": "markdown",
   "metadata": {},
   "source": [
    "Data Types : \n",
    "1. Strings\n",
    "2. Hash Map\n",
    "3. List\n",
    "4. Set\n",
    "5. Sorted Set\n",
    "6. HyperLogLog\n",
    "7. Geospatial\n"
   ]
  },
  {
   "cell_type": "markdown",
   "metadata": {},
   "source": []
  },
  {
   "cell_type": "markdown",
   "metadata": {},
   "source": [
    "# Strings\n",
    "* Redis string is a sequence of bytes. \n",
    "* Strings in Redis are binary safe, meaning they have a known length not determined by any special terminating characters. \n",
    "* Thus, you can store anything up to 512 megabytes in one string\n"
   ]
  },
  {
   "cell_type": "markdown",
   "metadata": {
    "vscode": {
     "languageId": "plaintext"
    }
   },
   "source": [
    "# Commands\n",
    "* SET\n",
    "This command sets the value at the specified key.\n",
    "* GET\n",
    "Gets the value of a key.\n",
    "* DEL\n",
    "This command deletes the key, if it exists.\n",
    "* FLUSHALL\n",
    "Delete all the keys of all the existing databases, not just the currently selected one.\n",
    "* KEYS *\n",
    "Returns all keys matching the pattern.\n",
    "* INCR\n",
    "Increment value by 1.\t\n",
    "* DECR\n",
    "Decrement value by 1.\n",
    "* INCRBY\n",
    "Increment value by given value.\n",
    "* DECRBY\n",
    "Decrement value by given value.\n",
    "* SET NAME VALUE EX 10\n",
    "\n",
    "\n",
    "* TTL\n",
    "Is Time To Live.\n",
    "If results is -2, it means it expired other mean it has that much of time is remaining\n"
   ]
  },
  {
   "cell_type": "markdown",
   "metadata": {},
   "source": [
    "# Redis Commander\n",
    "\n",
    "* npm install -g redis-commander\n",
    "To install redis commander in your system.\n",
    "* Run this commander after that “redis-commander”"
   ]
  },
  {
   "cell_type": "markdown",
   "metadata": {},
   "source": [
    "# Hash\n",
    "* Hash is like a json and map.\n",
    "* All values are stored in key-value (field-value) pairs.\n",
    "* Hash Data type is the perfect data type for storing objects.\n",
    "* Redis can store more than 4 billion (400 Crores) elements.\n",
    "* Example : \n",
    "saigopi:10535 => {\n",
    "  “name”:”Sai Gopi”,\n",
    "  “Age”:27,\n",
    "  “hobbies”:[”Cooking,Learning”],\n",
    "  “skills”:[”Dart”,”Java”,”Redis”],\n",
    "  “isSubscribed”:true,\n",
    "}\n",
    "\n",
    "* HSET\n",
    "For creating or setting elements to HashMap.\n",
    "* HGET\n",
    "Get value from HashMap by field.\n",
    "* HKEYS\n",
    "Get all keys from the HashMap.\n",
    "* HDEL\n",
    "For deleting HashMap.\n",
    "* HLEN\n",
    "For knowing the length of the HashMap.\n",
    "\n"
   ]
  },
  {
   "cell_type": "markdown",
   "metadata": {},
   "source": [
    "# List\n",
    "* Redis lists are normal lists.\n",
    "* Sorted by insertion order.\n",
    "* Redis can store more than 4 billion (400 Crores) elements.\n",
    "* O/(n) time complexity irrespective of element size.\n",
    "\n",
    "* LPUSH\n",
    "Add an element from the left side.\n",
    "* RPUSH\n",
    "Add an element from the right side.\n",
    "* LRANGE\n",
    "Get a range of elements from a given list.\n",
    "* LLEN\n",
    "Gives length of list.\n",
    "* LPOP\n",
    "Remove the element from the left side.\n",
    "* RPOP\n",
    "Remove the element from the left side.\n",
    "* LINDEX\n",
    "Get elements from the list by its index.\n",
    "* LSET\n",
    "Set element in list by its index.\n"
   ]
  },
  {
   "cell_type": "markdown",
   "metadata": {},
   "source": [
    "# Set\n",
    "# Sorted Set\n",
    "\n",
    "# Pub/Sub\n",
    "* Using it we can send and receive messages from redis.\n",
    "* Publisher: who sends the messages\n",
    "* Subscriber: who receives the messages.\n",
    "* A client can register any number of channels.\n",
    "\n",
    "* SUBSCRIBE\n",
    "For joining into any channel\n",
    "* PUBLISH\n",
    "For sending messages in Channel\n",
    "* UNSUBSCRIBE \n",
    "To stop listening to channel messages.\n"
   ]
  }
 ],
 "metadata": {
  "language_info": {
   "name": "python"
  }
 },
 "nbformat": 4,
 "nbformat_minor": 2
}
